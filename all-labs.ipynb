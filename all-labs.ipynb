{
 "cells": [
  {
   "cell_type": "code",
   "execution_count": null,
   "metadata": {},
   "outputs": [],
   "source": [
    "from image_processor import ImageProcessor\n",
    "import numpy as np\n",
    "%load_ext autoreload\n",
    "%autoreload 2\n"
   ]
  },
  {
   "cell_type": "markdown",
   "metadata": {},
   "source": [
    "# Lab 01 - Image Scaling\n"
   ]
  },
  {
   "cell_type": "markdown",
   "metadata": {},
   "source": [
    "src: https://x-engineer.org/bilinear-interpolation/\n",
    "\n",
    "![grey_image.jpg](https://i.stack.imgur.com/t7z2N.png)\n"
   ]
  },
  {
   "cell_type": "code",
   "execution_count": null,
   "metadata": {},
   "outputs": [],
   "source": [
    "processor = ImageProcessor()\n",
    "\n",
    "image_path = \"images/lena.png\"\n",
    "\n",
    "original_image = processor.load(image_path)\n",
    "grey_image = processor.rgb_to_grey(\n",
    "    original_image, method=\"luminosity\", output_name=\"grey-lena-lightness\"\n",
    ")\n"
   ]
  },
  {
   "cell_type": "code",
   "execution_count": null,
   "metadata": {},
   "outputs": [],
   "source": [
    "resampled7 = processor.resample_img_linear_interpolation(\n",
    "    grey_image, resize_ratio=[0.7, 0.7], output_name=\"resampled7-grey-lena\"\n",
    ")\n"
   ]
  },
  {
   "cell_type": "code",
   "execution_count": null,
   "metadata": {},
   "outputs": [],
   "source": [
    "back_to_original = processor.resample_img_linear_interpolation(\n",
    "    resampled7, output_size=[512, 512], output_name=\"back-to-original\"\n",
    ")\n"
   ]
  },
  {
   "cell_type": "code",
   "execution_count": null,
   "metadata": {},
   "outputs": [],
   "source": [
    "squared_diff_sum = np.sum((grey_image - back_to_original) ** 2)\n",
    "print(\"Squared difference sum: {}\".format(squared_diff_sum))\n"
   ]
  },
  {
   "cell_type": "markdown",
   "metadata": {},
   "source": [
    "# Lab 02 - Canny Edge Detection\n"
   ]
  },
  {
   "cell_type": "code",
   "execution_count": null,
   "metadata": {},
   "outputs": [],
   "source": [
    "processor = ImageProcessor()\n",
    "\n",
    "image_path = \"images/lena.png\"\n",
    "\n",
    "original_image = processor.load(image_path)\n",
    "\n",
    "edge_image = processor.canny_edge_detection(\n",
    "    original_image,\n",
    "    \"lena-edges\",\n",
    "    kernel_size=5,\n",
    "    sigma=1.4,\n",
    "    low_threshold=0.09,\n",
    "    high_threshold=0.17,\n",
    ")\n"
   ]
  }
 ],
 "metadata": {
  "kernelspec": {
   "display_name": "CS4372-vision",
   "language": "python",
   "name": "python3"
  },
  "language_info": {
   "codemirror_mode": {
    "name": "ipython",
    "version": 3
   },
   "file_extension": ".py",
   "mimetype": "text/x-python",
   "name": "python",
   "nbconvert_exporter": "python",
   "pygments_lexer": "ipython3",
   "version": "3.10.12"
  },
  "orig_nbformat": 4
 },
 "nbformat": 4,
 "nbformat_minor": 2
}
