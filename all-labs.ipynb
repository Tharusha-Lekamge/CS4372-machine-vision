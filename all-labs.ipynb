{
 "cells": [
  {
   "cell_type": "code",
   "execution_count": 36,
   "metadata": {},
   "outputs": [
    {
     "name": "stdout",
     "output_type": "stream",
     "text": [
      "The autoreload extension is already loaded. To reload it, use:\n",
      "  %reload_ext autoreload\n"
     ]
    }
   ],
   "source": [
    "from image_processor import ImageProcessor\n",
    "import numpy as np\n",
    "%load_ext autoreload\n",
    "%autoreload 2\n"
   ]
  },
  {
   "cell_type": "markdown",
   "metadata": {},
   "source": [
    "# Lab 01 - Image Scaling\n"
   ]
  },
  {
   "cell_type": "markdown",
   "metadata": {},
   "source": [
    "src: https://x-engineer.org/bilinear-interpolation/\n",
    "\n",
    "![grey_image.jpg](https://i.stack.imgur.com/t7z2N.png)\n"
   ]
  },
  {
   "cell_type": "code",
   "execution_count": 34,
   "metadata": {},
   "outputs": [
    {
     "name": "stdout",
     "output_type": "stream",
     "text": [
      "Loading image of dimensions 512 x 512\n"
     ]
    }
   ],
   "source": [
    "processor = ImageProcessor()\n",
    "\n",
    "image_path = \"images/lena.png\"\n",
    "\n",
    "original_image = processor.load(image_path)\n",
    "grey_image = processor.convert_to_grey(original_image, \"grey-lena\")"
   ]
  },
  {
   "cell_type": "code",
   "execution_count": 31,
   "metadata": {},
   "outputs": [
    {
     "name": "stdout",
     "output_type": "stream",
     "text": [
      "array.shape (512, 512)\n"
     ]
    }
   ],
   "source": [
    "resampled7 = processor.resample_img_linear_interpolation(\n",
    "    grey_image, resize_ratio=[0.7, 0.7], output_name=\"resampled7-grey-lena\"\n",
    ")\n"
   ]
  },
  {
   "cell_type": "code",
   "execution_count": 33,
   "metadata": {},
   "outputs": [
    {
     "name": "stdout",
     "output_type": "stream",
     "text": [
      "array.shape (358, 358)\n"
     ]
    }
   ],
   "source": [
    "back_to_original = processor.resample_img_linear_interpolation(\n",
    "    resampled7, output_size=[512, 512], output_name=\"back-to-original\"\n",
    ")"
   ]
  },
  {
   "cell_type": "code",
   "execution_count": 42,
   "metadata": {},
   "outputs": [
    {
     "name": "stdout",
     "output_type": "stream",
     "text": [
      "Squared difference sum: 3555655\n"
     ]
    }
   ],
   "source": [
    "squared_diff_sum = np.sum((grey_image - back_to_original) ** 2)\n",
    "print(\"Squared difference sum: {}\".format(squared_diff_sum))"
   ]
  }
 ],
 "metadata": {
  "kernelspec": {
   "display_name": "CS4372-vision",
   "language": "python",
   "name": "python3"
  },
  "language_info": {
   "codemirror_mode": {
    "name": "ipython",
    "version": 3
   },
   "file_extension": ".py",
   "mimetype": "text/x-python",
   "name": "python",
   "nbconvert_exporter": "python",
   "pygments_lexer": "ipython3",
   "version": "3.10.12"
  },
  "orig_nbformat": 4
 },
 "nbformat": 4,
 "nbformat_minor": 2
}
